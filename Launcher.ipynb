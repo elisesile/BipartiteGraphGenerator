{
 "cells": [
  {
   "cell_type": "code",
   "execution_count": 1,
   "metadata": {},
   "outputs": [],
   "source": [
    "from Pipeline import Pipeline"
   ]
  },
  {
   "cell_type": "code",
   "execution_count": 2,
   "metadata": {},
   "outputs": [],
   "source": [
    "file = \"shuffled_and_filtered_1000_BM_ete2018_otmedia_events_v6_p1_docs_redated.json\"#*FILENAME AND PATH HERE - IF NOT IN DATA FOLDER*\n",
    "speaker = \"FHollande\" #*SPEAKER WHOSE SPEECHES ARE TO BE CONSIDERED - IF NOT IN DATA FOLDER*"
   ]
  },
  {
   "cell_type": "code",
   "execution_count": 3,
   "metadata": {},
   "outputs": [
    {
     "name": "stdout",
     "output_type": "stream",
     "text": [
      "Careful, this step is to adapt to the speaker. \n",
      "Current speaker is François Hollande\n",
      "\n",
      "Articles Cleaned !\n",
      "\n",
      "Discourses Linked to Quotes !\n",
      "Treated discourse n° 168\n",
      "\n",
      "Quote Clusters Created !\n",
      "Your files are being written in the Results/ folder, under names starting with FHollande\n"
     ]
    }
   ],
   "source": [
    "launch = Pipeline(file, speaker)"
   ]
  },
  {
   "cell_type": "code",
   "execution_count": null,
   "metadata": {},
   "outputs": [],
   "source": []
  }
 ],
 "metadata": {
  "kernelspec": {
   "display_name": "Python 3",
   "language": "python",
   "name": "python3"
  },
  "language_info": {
   "codemirror_mode": {
    "name": "ipython",
    "version": 3
   },
   "file_extension": ".py",
   "mimetype": "text/x-python",
   "name": "python",
   "nbconvert_exporter": "python",
   "pygments_lexer": "ipython3",
   "version": "3.8.10"
  },
  "orig_nbformat": 4,
  "vscode": {
   "interpreter": {
    "hash": "916dbcbb3f70747c44a77c7bcd40155683ae19c65e1c03b4aa3499c5328201f1"
   }
  }
 },
 "nbformat": 4,
 "nbformat_minor": 2
}
