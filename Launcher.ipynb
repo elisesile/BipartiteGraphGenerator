{
 "cells": [
  {
   "cell_type": "code",
   "execution_count": 1,
   "metadata": {},
   "outputs": [],
   "source": [
    "from Pipeline import Pipeline"
   ]
  },
  {
   "cell_type": "code",
   "execution_count": 2,
   "metadata": {},
   "outputs": [],
   "source": [
    "file = \" \"#*FILENAME AND PATH HERE - IF NOT IN CURRENT FOLDER*"
   ]
  },
  {
   "cell_type": "code",
   "execution_count": 3,
   "metadata": {},
   "outputs": [
    {
     "name": "stdout",
     "output_type": "stream",
     "text": [
      "Careful, this step is to adapt to the speaker. \n",
      "Current speaker is François Hollande\n",
      "           id                   docTime                       media  \\\n",
      "1     1275550 2018-10-03 05:20:11+00:00  LA_REPUBLIQUE_DES_PYRENEES   \n",
      "2     1275550 2018-10-03 05:20:11+00:00  LA_REPUBLIQUE_DES_PYRENEES   \n",
      "3     1275550 2018-10-03 05:20:11+00:00  LA_REPUBLIQUE_DES_PYRENEES   \n",
      "7     1275550 2018-10-03 05:20:11+00:00  LA_REPUBLIQUE_DES_PYRENEES   \n",
      "8     1275550 2018-10-03 05:20:11+00:00  LA_REPUBLIQUE_DES_PYRENEES   \n",
      "...       ...                       ...                         ...   \n",
      "6012  1370013 2018-10-10 16:46:09+00:00                      BFM_TV   \n",
      "6013  1370013 2018-10-10 16:46:09+00:00                      BFM_TV   \n",
      "6026  1464475 2018-10-18 13:04:39+00:00                      BFM_TV   \n",
      "6027  1464475 2018-10-18 13:04:39+00:00                      BFM_TV   \n",
      "6028  1464475 2018-10-18 13:04:39+00:00                      BFM_TV   \n",
      "\n",
      "                                                  title           author  \\\n",
      "1     Ryder Cup: la spectatrice blessée à l’oeil sai...              NaN   \n",
      "2     Ryder Cup: la spectatrice blessée à l’oeil sai...              NaN   \n",
      "3     Ryder Cup: la spectatrice blessée à l’oeil sai...              NaN   \n",
      "7     Ryder Cup: la spectatrice blessée à l’oeil sai...              NaN   \n",
      "8     Ryder Cup: la spectatrice blessée à l’oeil sai...              NaN   \n",
      "...                                                 ...              ...   \n",
      "6012  Mylène Farmer: succès de son nouvel album, dis...   M. R. avec AFP   \n",
      "6013  Mylène Farmer: succès de son nouvel album, dis...   M. R. avec AFP   \n",
      "6026  Isère: la vidéo d'un chien abattu par un polic...  Claire Rodineau   \n",
      "6027  Isère: la vidéo d'un chien abattu par un polic...  Claire Rodineau   \n",
      "6028  Isère: la vidéo d'un chien abattu par un polic...  Claire Rodineau   \n",
      "\n",
      "                                        splitted_quotes  disc_id  \n",
      "1     blessures involontaires et manquement aux règl...  default  \n",
      "2     C’est clair, il y a une responsabilité des org...  default  \n",
      "3     Le joueur aurait dû crier +balle+ ou +fore+ po...  default  \n",
      "7                 quand vous vous trouvez dans la foule  default  \n",
      "8     Les organisateurs, pour assurer le spectacle, ...  default  \n",
      "...                                                 ...      ...  \n",
      "6012  En 8 jours, Désobéissance le nouvel album de M...  default  \n",
      "6013  Le nouveau single de l'album est Désobeissance...  default  \n",
      "6026       venait de tenter de 'croquer' un autre chien  default  \n",
      "6027  Une fois sur place, les policiers ont tenté de...  default  \n",
      "6028  Cette personne a filmé alors que les policiers...  default  \n",
      "\n",
      "[3216 rows x 7 columns]\n"
     ]
    }
   ],
   "source": [
    "launch = Pipeline(\"shuffled_and_filtered_1000_BM_ete2018_otmedia_events_v6_p1_docs_redated.json\", \"FHollande\")"
   ]
  },
  {
   "cell_type": "code",
   "execution_count": 4,
   "metadata": {},
   "outputs": [
    {
     "data": {
      "text/html": [
       "<div>\n",
       "<style scoped>\n",
       "    .dataframe tbody tr th:only-of-type {\n",
       "        vertical-align: middle;\n",
       "    }\n",
       "\n",
       "    .dataframe tbody tr th {\n",
       "        vertical-align: top;\n",
       "    }\n",
       "\n",
       "    .dataframe thead th {\n",
       "        text-align: right;\n",
       "    }\n",
       "</style>\n",
       "<table border=\"1\" class=\"dataframe\">\n",
       "  <thead>\n",
       "    <tr style=\"text-align: right;\">\n",
       "      <th></th>\n",
       "      <th>id</th>\n",
       "      <th>docTime</th>\n",
       "      <th>media</th>\n",
       "      <th>title</th>\n",
       "      <th>author</th>\n",
       "      <th>splitted_quotes</th>\n",
       "      <th>disc_id</th>\n",
       "    </tr>\n",
       "  </thead>\n",
       "  <tbody>\n",
       "    <tr>\n",
       "      <th>15</th>\n",
       "      <td>perso</td>\n",
       "      <td>2016-12-09 09:01:00+00:00</td>\n",
       "      <td>LA_VOIX_DU_NORD</td>\n",
       "      <td>Hazebrouck - La première miss éligible à Miss ...</td>\n",
       "      <td>Par Sophie Motte</td>\n",
       "      <td>e suis, un an après, encore sur le porte-avio...</td>\n",
       "      <td>168</td>\n",
       "    </tr>\n",
       "  </tbody>\n",
       "</table>\n",
       "</div>"
      ],
      "text/plain": [
       "       id                   docTime            media  \\\n",
       "15  perso 2016-12-09 09:01:00+00:00  LA_VOIX_DU_NORD   \n",
       "\n",
       "                                                title            author  \\\n",
       "15  Hazebrouck - La première miss éligible à Miss ...  Par Sophie Motte   \n",
       "\n",
       "                                      splitted_quotes disc_id  \n",
       "15   e suis, un an après, encore sur le porte-avio...     168  "
      ]
     },
     "execution_count": 4,
     "metadata": {},
     "output_type": "execute_result"
    }
   ],
   "source": [
    "launch.articles"
   ]
  },
  {
   "cell_type": "code",
   "execution_count": 5,
   "metadata": {},
   "outputs": [
    {
     "name": "stdout",
     "output_type": "stream",
     "text": [
      "id                                                             perso\n",
      "docTime                                    2016-12-09 09:01:00+00:00\n",
      "media                                                LA_VOIX_DU_NORD\n",
      "title              Hazebrouck - La première miss éligible à Miss ...\n",
      "author                                              Par Sophie Motte\n",
      "splitted_quotes     e suis, un an après, encore sur le porte-avio...\n",
      "disc_id                                                          168\n",
      "Name: 15, dtype: object\n",
      "Treated discourse n° 168\n"
     ]
    }
   ],
   "source": [
    "launch.define_quote_clusters(launch.articles)"
   ]
  },
  {
   "cell_type": "code",
   "execution_count": 8,
   "metadata": {},
   "outputs": [
    {
     "data": {
      "text/plain": [
       "[0]"
      ]
     },
     "execution_count": 8,
     "metadata": {},
     "output_type": "execute_result"
    }
   ],
   "source": [
    "launch.quote_clusters[0].quotes"
   ]
  },
  {
   "cell_type": "code",
   "execution_count": null,
   "metadata": {},
   "outputs": [],
   "source": []
  }
 ],
 "metadata": {
  "kernelspec": {
   "display_name": "Python 3",
   "language": "python",
   "name": "python3"
  },
  "language_info": {
   "codemirror_mode": {
    "name": "ipython",
    "version": 3
   },
   "file_extension": ".py",
   "mimetype": "text/x-python",
   "name": "python",
   "nbconvert_exporter": "python",
   "pygments_lexer": "ipython3",
   "version": "3.8.10"
  },
  "orig_nbformat": 4,
  "vscode": {
   "interpreter": {
    "hash": "916dbcbb3f70747c44a77c7bcd40155683ae19c65e1c03b4aa3499c5328201f1"
   }
  }
 },
 "nbformat": 4,
 "nbformat_minor": 2
}
