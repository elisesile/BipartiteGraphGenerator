{
 "cells": [
  {
   "cell_type": "code",
   "execution_count": 1,
   "metadata": {},
   "outputs": [],
   "source": [
    "from Pipeline import Pipeline"
   ]
  },
  {
   "cell_type": "code",
   "execution_count": 2,
   "metadata": {},
   "outputs": [],
   "source": [
    "file = \"Data/shuffled_and_filtered_1000_BM_ete2018_otmedia_events_v6_p1_docs_redated.json\"#*FILENAME AND PATH HERE - IF NOT IN DATA FOLDER*\n"
   ]
  },
  {
   "cell_type": "code",
   "execution_count": 3,
   "metadata": {},
   "outputs": [
    {
     "name": "stdout",
     "output_type": "stream",
     "text": [
      "Careful, this step is to adapt to the speaker. \n",
      "Current speaker is Emmanuel Macron\n",
      "\n",
      "Articles Cleaned !\n",
      "\n",
      "Discourses Linked to Quotes !\n",
      "Treated discourse n° 562\n",
      "Treated discourse n° 571\n",
      "Treated discourse n° 554\n",
      "Treated discourse n° 572\n",
      "Treated discourse n° 552\n",
      "Treated discourse n° 577\n",
      "Treated discourse n° 543\n",
      "Treated discourse n° 580\n",
      "Treated discourse n° 560\n",
      "Common Substring ::>  grande concertation de terrain sur la transition écologique et sociale\n",
      "Treated discourse n° 546\n",
      "Common Substring ::>  J’espère que vous avez une bonne assurance\n",
      "Treated discourse n° 564\n",
      "Treated discourse n° 578\n",
      "Treated discourse n° 558\n",
      "Treated discourse n° 559\n",
      "Treated discourse n° 581\n",
      "Treated discourse n° 573\n",
      "Treated discourse n° 556\n",
      "Treated discourse n° 579\n",
      "Treated discourse n° 568\n",
      "Treated discourse n° 569\n",
      "Treated discourse n° 555\n",
      "Treated discourse n° 576\n",
      "Treated discourse n° 567\n",
      "\n",
      "Quote Clusters Created !\n",
      "['https://amp.france24.com/fr/20181030-italie-croissance-berne-complique-encore-lequation-gouvernement/https://www.france24.com/fr/20181030-italie-croissance-berne-complique-encore-lequation-gouvernement']\n",
      "['https://www.bfmtv.com/societe/emmanuel-macron-arrive-en-martinique-la-tempete-kirk-aussi_AN-201809270004.html/https://www.bfmtv.com/amp/societe/emmanuel-macron-arrive-en-martinique-la-tempete-kirk-aussi_AN-201809270004.html']\n",
      "['https://www.ladepeche.fr/article/2018/11/14/2906423-immeubles-effondres-marseille-travaux-avaient-commence-selon-proprietaires.html/https://www.ladepeche.fr/amp/article/2018/11/14/2906423-immeubles-effondres-marseille-travaux-avaient-commence-selon-proprietaires.html']\n",
      "['https://www.ladepeche.fr/article/2018/11/14/2906423-immeubles-effondres-marseille-travaux-avaient-commence-selon-proprietaires.html/https://www.ladepeche.fr/amp/article/2018/11/14/2906423-immeubles-effondres-marseille-travaux-avaient-commence-selon-proprietaires.html']\n",
      "['https://www.ladepeche.fr/article/2018/11/14/2906423-immeubles-effondres-marseille-travaux-avaient-commence-selon-proprietaires.html/https://www.ladepeche.fr/amp/article/2018/11/14/2906423-immeubles-effondres-marseille-travaux-avaient-commence-selon-proprietaires.html']\n",
      "['https://rmc.bfmtv.com/emission/edouard-philippe-face-aux-gilets-jaunes-on-ne-va-pas-annuler-la-taxe-carbone-1565825.html']\n",
      "['https://www.lnc.nc/breve/macron-a-l-onu-la-crise-iranienne-ne-peut-se-reduire-a-une-politique-de-sanctions']\n",
      "['https://www.challenges.fr/monde/un-sommet-trump-kim-probablement-apres-le-nouvel-an_626252/https://www.challenges.fr/monde/un-sommet-trump-kim-probablement-apres-le-nouvel-an_626252.amp']\n",
      "['https://www.nouvelobs.com/monde/20181114.OBS5375/sommee-par-bruxelles-de-revoir-son-budget-2019-l-italie-refuse.amp/https://www.nouvelobs.com/monde/20181114.OBS5375/sommee-par-bruxelles-de-revoir-son-budget-2019-l-italie-refuse.html']\n",
      "['https://www.larepubliquedespyrenees.fr/2018/11/13/le-vatican-bloque-des-mesures-des-eveques-americains-contre-les-abus-sexuels,2464235.php/https://www.larepubliquedespyrenees.fr/2018/11/13/le-vatican-bloque-des-mesures-des-eveques-americains-contre-les-abus-sexuels,2464235.amp.html']\n",
      "['https://www.france24.com/fr/20180901-ligue-1-mercato-gout-etrange/https://amp.france24.com/fr/20180901-ligue-1-mercato-gout-etrange']\n",
      "['http://lexpansion.lexpress.fr/actualites/1/actualite-economique/velib-smovengo-promet-desormais-un-service-complet-debut-2019_2033646.html/https://lexpansion.lexpress.fr/actualites/1/actualite-economique/velib-smovengo-promet-desormais-un-service-complet-debut-2019_2033646.amp.html/https://lexpansion.lexpress.fr/actualites/1/actualite-economique/velib-smovengo-promet-desormais-un-service-complet-debut-2019_2033646.html?utm_source=dlvr.it&utm_medium=twitter/https://lexpansion.lexpress.fr/actualites/1/actualite-economique/velib-smovengo-promet-desormais-un-service-complet-debut-2019_2033646.html']\n",
      "['https://www.vanityfair.fr/amp/actualites/articles/une-video-de-151-lyceens-interpelles-a-mantes-la-jolie/71095/https://www.vanityfair.fr/actualites/articles/une-video-de-151-lyceens-interpelles-a-mantes-la-jolie/71095']\n",
      "['https://www.voici.fr/news-people/actu-people/melania-trump-lorsquelle-nest-pas-avec-son-mari-la-first-lady-serait-plus-detendue-649789/http://www.voici.fr/news-people/actu-people/melania-trump-lorsquelle-nest-pas-avec-son-mari-la-first-lady-serait-plus-detendue-649789?utm_term=Autofeed&utm_campaign=Echobox&utm_medium=Social&utm_source=Twitter/http://www.voici.fr/news-people/actu-people/melania-trump-lorsquelle-nest-pas-avec-son-mari-la-first-lady-serait-plus-detendue-649789/https://www.voici.fr/news-people/actu-people/melania-trump-lorsquelle-nest-pas-avec-son-mari-la-first-lady-serait-plus-detendue-649789?utm_term=Autofeed&utm_campaign=Echobox&utm_medium=Social&utm_source=Twitter/https://www.voici.fr/news-people/actu-people/melania-trump-lorsquelle-nest-pas-avec-son-mari-la-first-lady-serait-plus-detendue-649789?amp']\n",
      "['https://www.lapresse.ca/international/asie-oceanie/201811/02/01-5202722-pakistan-accord-pour-mettre-fin-aux-manifestations-anti-asia-bibi.php/https://www.lapresse.ca/international/asie-oceanie/201811/02/01-5202722-pakistan-troisieme-jour-de-manifestations-anti-asia-bibi.php/https://www.lapresse.ca/international/asie-oceanie/201811/02/01-5202722-pakistan-troisieme-jour-de-manifestations-anti-asia-bibi.php?utm_source=dlvr.it&utm_medium=twitter']\n",
      "['https://www.lejdd.fr/Politique/sur-les-gilets-jaunes-le-gouvernement-a-beaucoup-varie-3810473.amp/https://www.lejdd.fr/Politique/sur-les-gilets-jaunes-le-gouvernement-a-beaucoup-varie-3810473']\n",
      "['https://www.sudouest.fr/2018/09/01/abeilles-les-neonicotinoides-sont-maintenant-interdits-dans-l-agriculture-5354148-4720.amp.html/http://www.sudouest.fr/2018/09/01/abeilles-les-neonicotinoides-sont-maintenant-interdits-dans-l-agriculture-5354148-4720.php/https://www.sudouest.fr/2018/09/01/abeilles-les-neonicotinoides-sont-maintenant-interdits-dans-l-agriculture-5354148-4720.php/http://sudouest.fr/2018/09/01/abeilles-les-neonicotinoides-sont-maintenant-interdits-dans-l-agriculture-5354148-4720.php']\n",
      "['http://challenges.fr/politique/qui-est-thierry-coste-celui-qui-a-declenche-le-depart-de-hulot_609142/https://www.challenges.fr/politique/qui-est-thierry-coste-celui-qui-a-declenche-le-depart-de-hulot_609142/https://www.challenges.fr/politique/qui-est-thierry-coste-celui-qui-a-declenche-le-depart-de-hulot_609142.amp']\n",
      "['https://www.rfi.fr/france/20181104-vote-referendum-independance-nouvelle-caledonie-victoire-non/https://www.rfi.fr/fr/france/20181104-vote-referendum-independance-nouvelle-caledonie-victoire-non/http://www.rfi.fr/france/20181104-vote-referendum-independance-nouvelle-caledonie-victoire-non/https://amp.rfi.fr/fr/france/20181104-vote-referendum-independance-nouvelle-caledonie-victoire-non']\n",
      "['https://www.rfi.fr/france/20181104-vote-referendum-independance-nouvelle-caledonie-victoire-non/https://www.rfi.fr/fr/france/20181104-vote-referendum-independance-nouvelle-caledonie-victoire-non/http://www.rfi.fr/france/20181104-vote-referendum-independance-nouvelle-caledonie-victoire-non/https://amp.rfi.fr/fr/france/20181104-vote-referendum-independance-nouvelle-caledonie-victoire-non']\n",
      "['https://www.rfi.fr/france/20181104-vote-referendum-independance-nouvelle-caledonie-victoire-non/https://www.rfi.fr/fr/france/20181104-vote-referendum-independance-nouvelle-caledonie-victoire-non/http://www.rfi.fr/france/20181104-vote-referendum-independance-nouvelle-caledonie-victoire-non/https://amp.rfi.fr/fr/france/20181104-vote-referendum-independance-nouvelle-caledonie-victoire-non']\n",
      "['https://mobile.francetvinfo.fr/culture/cinema/j-ai-senti-le-sol-trembler-le-12-juillet-1986-le-jour-ou-queen-a-regne-sur-le-rock-en-mettant-wembley-a-ses-pieds_2988891.html/https://www.francetvinfo.fr/culture/cinema/j-ai-senti-le-sol-trembler-le-12-juillet-1986-le-jour-ou-queen-a-regne-sur-le-rock-en-mettant-wembley-a-ses-pieds_2988891.html']\n",
      "['https://www.challenges.fr/monde/commerce-trump-et-juncker-d-accord-pour-desamorcer-la-crise_603581.amp/https://www.challenges.fr/monde/commerce-trump-et-juncker-d-accord-pour-desamorcer-la-crise_603581']\n",
      "['https://www.20minutes.fr/monde/2313631-20180726-commerce-france-fixe-lignes-rouges-apres-reunion-trump-juncker/https://m.20minutes.fr/amp/a/2313631']\n",
      "['http://www.lepoint.fr/monde/brexit-une-majorite-de-britanniques-en-faveur-d-un-nouveau-referendum-27-07-2018-2239616_24.php/http://w.lpnt.fr/2239616t/https://www.lepoint.fr/tiny/1-2239616/http://www.lepoint.fr/t/1-2239616/https://w.lpnt.fr/2239616t/https://www.lepoint.fr/monde/brexit-une-majorite-de-britanniques-en-faveur-d-un-nouveau-referendum-27-07-2018-2239616_24.php/https://w.lpnt.fr/redirect.php?id=2239616&pos=t/https://www.lepoint.fr/t/1-2239616/https://amp.lepoint.fr/2239616']\n",
      "['https://www.lexpress.fr/actualites/1/monde/les-etats-unis-renouent-le-dialogue-direct-avec-la-coree-du-nord_2037129.html/http://www.lexpress.fr/actualites/1/monde/les-etats-unis-renouent-le-dialogue-direct-avec-la-coree-du-nord_2037129.html/https://www.lexpress.fr/actualites/1/monde/les-etats-unis-renouent-le-dialogue-direct-avec-la-coree-du-nord_2037129.amp.html']\n",
      "['https://www.nouvelobs.com/topnews/20181106.AFP8423/macron-annonce-l-entree-au-pantheon-de-maurice-genevoix-et-de-ceux-de-14.html/https://www.nouvelobs.com/topnews/20181106.AFP8423/macron-annonce-l-entree-au-pantheon-de-maurice-genevoix-et-de-ceux-de-14.amp']\n",
      "['https://www.nouvelobs.com/topnews/20181106.AFP8423/macron-annonce-l-entree-au-pantheon-de-maurice-genevoix-et-de-ceux-de-14.html/https://www.nouvelobs.com/topnews/20181106.AFP8423/macron-annonce-l-entree-au-pantheon-de-maurice-genevoix-et-de-ceux-de-14.amp']\n",
      "['https://www.nouvelobs.com/topnews/20181106.AFP8423/macron-annonce-l-entree-au-pantheon-de-maurice-genevoix-et-de-ceux-de-14.html/https://www.nouvelobs.com/topnews/20181106.AFP8423/macron-annonce-l-entree-au-pantheon-de-maurice-genevoix-et-de-ceux-de-14.amp']\n",
      "['https://www.challenges.fr/sport/us-open-quand-l-arbitre-vient-au-secours-de-kyrgios-en-plein-match_609678/https://www.challenges.fr/sport/us-open-quand-l-arbitre-vient-au-secours-de-kyrgios-en-plein-match_609678.amp']\n",
      "['https://amp.france24.com/fr/20180830-diplomatie-francaise-va-devoir-serrer-ceinture/https://www.france24.com/fr/20180830-diplomatie-francaise-va-devoir-serrer-ceinture']\n",
      "['https://www.bfmtv.com/amp/societe/lutte-contre-les-violences-conjugales-plus-d-un-millier-de-citoyens-reunis-a-paris-a-l-appel-de-muriel-robin_AV-201810060044.html/https://www.bfmtv.com/societe/paris-plusieurs-centaines-de-personnes-reunies-contre-les-violences-faites-aux-femmes-1538916.html/https://www.bfmtv.com/societe/lutte-contre-les-violences-conjugales-plus-d-un-millier-de-citoyens-reunis-a-paris-a-l-appel-de-muriel-robin_AV-201810060044.html']\n",
      "['https://www.lamontagne.fr/amp/paris-75000/actualites/pas-de-remaniement-du-gouvernement-avant-samedi-au-plus-tot_13011618//https://www.lamontagne.fr/paris-75000/actualites/pas-de-remaniement-du-gouvernement-avant-samedi-au-plus-tot_13011618//https://www.lamontagne.fr/paris/france/politique/2018/10/10/pas-de-remaniement-du-gouvernement-avant-ce-vendredi_13011618.html']\n",
      "['https://www.bfmtv.com/amp/societe/lutte-contre-les-violences-conjugales-plus-d-un-millier-de-citoyens-reunis-a-paris-a-l-appel-de-muriel-robin_AV-201810060044.html/https://www.bfmtv.com/societe/paris-plusieurs-centaines-de-personnes-reunies-contre-les-violences-faites-aux-femmes-1538916.html/https://www.bfmtv.com/societe/lutte-contre-les-violences-conjugales-plus-d-un-millier-de-citoyens-reunis-a-paris-a-l-appel-de-muriel-robin_AV-201810060044.html']\n",
      "['https://www.lamontagne.fr/amp/paris-75000/actualites/pas-de-remaniement-du-gouvernement-avant-samedi-au-plus-tot_13011618//https://www.lamontagne.fr/paris-75000/actualites/pas-de-remaniement-du-gouvernement-avant-samedi-au-plus-tot_13011618//https://www.lamontagne.fr/paris/france/politique/2018/10/10/pas-de-remaniement-du-gouvernement-avant-ce-vendredi_13011618.html']\n",
      "['https://www.larepubliquedespyrenees.fr/2018/11/14/israel-le-ministre-de-la-defense-demissionne-sur-gaza-le-gouvernement-dans-la-tourmente,2465287.amp.html/https://www.larepubliquedespyrenees.fr/2018/11/14/israel-le-ministre-de-la-defense-demissionne-sur-gaza-le-gouvernement-dans-la-tourmente,2465287.php']\n",
      "['http://www.sudouest.fr/2018/09/10/un-australien-soupconne-d-avoir-tue-sa-femme-ses-trois-enfants-et-sa-belle-mere-5378354-4803.php/https://www.sudouest.fr/2018/09/10/un-australien-soupconne-d-avoir-tue-sa-femme-ses-trois-enfants-et-sa-belle-mere-5378354-4803.php/https://www.sudouest.fr/2018/09/10/un-australien-soupconne-d-avoir-tue-sa-femme-ses-trois-enfants-et-sa-belle-mere-5378354-4803.amp.html/http://sudouest.fr/2018/09/10/un-australien-soupconne-d-avoir-tue-sa-femme-ses-trois-enfants-et-sa-belle-mere-5378354-4803.php']\n",
      "['https://www.challenges.fr/societe/un-rapport-pour-reformer-l-islam-et-contrer-la-fabrique-de-l-islamisme_611748.amp/https://www.challenges.fr/societe/un-rapport-pour-reformer-l-islam-et-contrer-la-fabrique-de-l-islamisme_611748/http://challenges.fr/societe/un-rapport-pour-reformer-l-islam-et-contrer-la-fabrique-de-l-islamisme_611748']\n",
      "['http://www.20minutes.fr/societe/2354295-20181014-reims-mort-nourrisson-13-mois-parents-mis-examen-meurtre-aggrave/https://m.20minutes.fr/amp/a/2354295/https://m.20minutes.fr/societe/2354295-20181014-reims-mort-nourrisson-13-mois-parents-mis-examen-meurtre-aggrave/https://www.20minutes.fr/societe/2354295-20181014-reims-mort-nourrisson-13-mois-parents-mis-examen-meurtre-aggrave/https://www.20minutes.fr/societe/2354295-20181014-reims-mort-nourrisson-13-mois-parents-mis-examen-meurtre-aggrave?utm_source=dlvr.it&utm_medium=twitter']\n",
      "Your files are being written in the Results/ folder, under names starting with EMacron\n"
     ]
    }
   ],
   "source": [
    "launch = Pipeline(file, \"PParties\")\n",
    "launch = Pipeline(file, \"EMacron\")"
   ]
  },
  {
   "cell_type": "code",
   "execution_count": null,
   "metadata": {},
   "outputs": [],
   "source": []
  }
 ],
 "metadata": {
  "kernelspec": {
   "display_name": "Python 3",
   "language": "python",
   "name": "python3"
  },
  "language_info": {
   "codemirror_mode": {
    "name": "ipython",
    "version": 3
   },
   "file_extension": ".py",
   "mimetype": "text/x-python",
   "name": "python",
   "nbconvert_exporter": "python",
   "pygments_lexer": "ipython3",
   "version": "3.8.10"
  },
  "orig_nbformat": 4,
  "vscode": {
   "interpreter": {
    "hash": "916dbcbb3f70747c44a77c7bcd40155683ae19c65e1c03b4aa3499c5328201f1"
   }
  }
 },
 "nbformat": 4,
 "nbformat_minor": 2
}
